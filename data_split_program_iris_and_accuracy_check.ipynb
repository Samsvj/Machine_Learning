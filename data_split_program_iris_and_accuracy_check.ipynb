{
 "cells": [
  {
   "cell_type": "code",
   "execution_count": 12,
   "metadata": {},
   "outputs": [
    {
     "name": "stdout",
     "output_type": "stream",
     "text": [
      "[1.0, 1.0, 0.6666666666666666, 0.75, 1.0, 1.0, 0.8571428571428571, 0.875]\n"
     ]
    },
    {
     "data": {
      "image/png": "[encoded data removed]",
      "text/plain": [
       "<Figure size 432x288 with 1 Axes>"
      ]
     },
     "metadata": {},
     "output_type": "display_data"
    }
   ],
   "source": [
    "import time\n",
    "import matplotlib.pyplot as plt\n",
    "from sklearn.datasets  import load_iris\n",
    "from  sklearn  import  tree\n",
    "\n",
    "#from  sklearn.cross_validation  import  train_test_split\n",
    "from   sklearn.model_selection  import  train_test_split\n",
    "\n",
    "#from sklearn.metrics import accuracy_store for calculating accuracy_percentage\n",
    "from  sklearn.metrics  import  accuracy_score\n",
    "\n",
    "#  loading  iris\n",
    "iris=load_iris()\n",
    "\n",
    "#defining a variable in the range for deciding the split range of the data\n",
    "test=range(1,9)\n",
    "\n",
    "#defining a dict[] for appending accuracy percentage \n",
    "pct=[]\n",
    "\n",
    "for i in test:\n",
    " train_data,test_data,train_target,test_target=train_test_split(iris.data,iris.target,test_size=i)\n",
    " clf=tree.DecisionTreeClassifier() #  calling  decisiontree\n",
    " trained=clf.fit(train_data,train_target)\n",
    " predicted=trained.predict(test_data) #  predicting output \n",
    " pct.append(accuracy_score(test_target,predicted)) #  now calculating  accuracy \n",
    "\n",
    "#printing percentage\n",
    "print(pct)\n",
    "\n",
    "#now plotting graph across accuracy percentage and test_size\n",
    "#plt.plot(x-axis,y-axis)\n",
    "plt.plot(test,pct)\n",
    "plt.xlabel=\"Test_Size\"\n",
    "plt.ylabel=\"Accuracy Percentage\"\n",
    "plt.show()"
   ]
  },
  {
   "cell_type": "code",
   "execution_count": 14,
   "metadata": {},
   "outputs": [
    {
     "name": "stdout",
     "output_type": "stream",
     "text": [
      "[2 2 2 0 0 1 1 1 0 1 0 2 0 1 0]\n",
      "[2 2 2 0 0 1 1 1 0 1 0 2 0 1 0]\n",
      "[2 2 2 0 0 1 1 1 0 1 0 2 0 1 0]\n",
      "1.0\n",
      "1.0\n"
     ]
    }
   ],
   "source": [
    "import time\n",
    "import matplotlib.pyplot as plt\n",
    "from sklearn.datasets  import load_iris\n",
    "from  sklearn  import  tree\n",
    "from sklearn.neighbors import KNeighborsClassifier\n",
    "\n",
    "\n",
    "#from  sklearn.cross_validation  import  train_test_split\n",
    "from   sklearn.model_selection  import  train_test_split\n",
    "\n",
    "#  loading  iris\n",
    "iris=load_iris()\n",
    "\n",
    "train_data,test_data,train_target,test_target=train_test_split(iris.data,iris.target,test_size=0.1)\n",
    "\n",
    "#  calling  decisiontree\n",
    "clf=tree.DecisionTreeClassifier()\n",
    "trained=clf.fit(train_data,train_target)\n",
    "\n",
    "#calling KNN\n",
    "knnclf=KNeighborsClassifier(n_neighbors=5)\n",
    "knntrained=knnclf.fit(train_data,train_target)\n",
    "\n",
    "#  predicting output \n",
    "predicted=trained.predict(test_data)\n",
    "knnpredicted=knntrained.predict(test_data)\n",
    "\n",
    "print(knnpredicted)\n",
    "print(test_target)\n",
    "print(predicted)\n",
    "#  now calculating  accuracy \n",
    "from  sklearn.metrics  import  accuracy_score\n",
    "\n",
    "pct=accuracy_score(test_target,predicted)\n",
    "knnpct=accuracy_score(test_target,knnpredicted)\n",
    "\n",
    "print(knnpct)\n",
    "print(pct)"
   ]
  },
  {
   "cell_type": "code",
   "execution_count": null,
   "metadata": {},
   "outputs": [],
   "source": []
  },
  {
   "cell_type": "code",
   "execution_count": null,
   "metadata": {},
   "outputs": [],
   "source": [
    " "
   ]
  },
  {
   "cell_type": "code",
   "execution_count": null,
   "metadata": {},
   "outputs": [],
   "source": []
  }
 ],
 "metadata": {
  "kernelspec": {
   "display_name": "Python 3",
   "language": "python",
   "name": "python3"
  },
  "language_info": {
   "codemirror_mode": {
    "name": "ipython",
    "version": 3
   },
   "file_extension": ".py",
   "mimetype": "text/x-python",
   "name": "python",
   "nbconvert_exporter": "python",
   "pygments_lexer": "ipython3",
   "version": "3.5.2"
  }
 },
 "nbformat": 4,
 "nbformat_minor": 2
}
