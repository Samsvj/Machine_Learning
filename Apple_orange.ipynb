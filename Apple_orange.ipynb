{
 "cells": [
  {
   "cell_type": "code",
   "execution_count": 4,
   "metadata": {},
   "outputs": [
    {
     "name": "stdout",
     "output_type": "stream",
     "text": [
      "['Orange']\n"
     ]
    }
   ],
   "source": [
    "from sklearn import tree\n",
    "#features of apples and oranges or Collecting data \n",
    "#based on the weight and the texture of the fruit respectively \n",
    "data=[[100,0],[150,0],[150,1],[200,1]]\n",
    "#outputs expected from the machine according to the given input \n",
    "output=[['Apple'],['Apple'],['Orange'],['Orange']]\n",
    "#decision tree algo calling \n",
    "algo=tree.DecisionTreeClassifier()\n",
    "#train data \n",
    "trained_algo=algo.fit(data,output)\n",
    "#test the program\n",
    "predict=trained_algo.predict([[120,1]])\n",
    "#predict the output\n",
    "print(predict)\n"
   ]
  },
  {
   "cell_type": "code",
   "execution_count": 5,
   "metadata": {},
   "outputs": [
    {
     "data": {
      "text/plain": [
       "['DecisionTreeClassifier',\n",
       " 'DecisionTreeRegressor',\n",
       " 'ExtraTreeClassifier',\n",
       " 'ExtraTreeRegressor',\n",
       " '__all__',\n",
       " '__builtins__',\n",
       " '__cached__',\n",
       " '__doc__',\n",
       " '__file__',\n",
       " '__loader__',\n",
       " '__name__',\n",
       " '__package__',\n",
       " '__path__',\n",
       " '__spec__',\n",
       " '_criterion',\n",
       " '_splitter',\n",
       " '_tree',\n",
       " '_utils',\n",
       " 'export',\n",
       " 'export_graphviz',\n",
       " 'tree']"
      ]
     },
     "execution_count": 5,
     "metadata": {},
     "output_type": "execute_result"
    }
   ],
   "source": [
    "dir(tree)"
   ]
  },
  {
   "cell_type": "code",
   "execution_count": 11,
   "metadata": {},
   "outputs": [
    {
     "name": "stdout",
     "output_type": "stream",
     "text": [
      "Help on function export_graphviz in module sklearn.tree.export:\n",
      "\n",
      "export_graphviz(decision_tree, out_file=\"tree.dot\", max_depth=None, feature_names=None, class_names=None, label='all', filled=False, leaves_parallel=False, impurity=True, node_ids=False, proportion=False, rotate=False, rounded=False, special_characters=False, precision=3)\n",
      "    Export a decision tree in DOT format.\n",
      "    \n",
      "    This function generates a GraphViz representation of the decision tree,\n",
      "    which is then written into `out_file`. Once exported, graphical renderings\n",
      "    can be generated using, for example::\n",
      "    \n",
      "        $ dot -Tps tree.dot -o tree.ps      (PostScript format)\n",
      "        $ dot -Tpng tree.dot -o tree.png    (PNG format)\n",
      "    \n",
      "    The sample counts that are shown are weighted with any sample_weights that\n",
      "    might be present.\n",
      "    \n",
      "    Read more in the :ref:`User Guide <tree>`.\n",
      "    \n",
      "    Parameters\n",
      "    ----------\n",
      "    decision_tree : decision tree classifier\n",
      "        The decision tree to be exported to GraphViz.\n",
      "    \n",
      "    out_file : file object or string, optional (default='tree.dot')\n",
      "        Handle or name of the output file. If ``None``, the result is\n",
      "        returned as a string. This will the default from version 0.20.\n",
      "    \n",
      "    max_depth : int, optional (default=None)\n",
      "        The maximum depth of the representation. If None, the tree is fully\n",
      "        generated.\n",
      "    \n",
      "    feature_names : list of strings, optional (default=None)\n",
      "        Names of each of the features.\n",
      "    \n",
      "    class_names : list of strings, bool or None, optional (default=None)\n",
      "        Names of each of the target classes in ascending numerical order.\n",
      "        Only relevant for classification and not supported for multi-output.\n",
      "        If ``True``, shows a symbolic representation of the class name.\n",
      "    \n",
      "    label : {'all', 'root', 'none'}, optional (default='all')\n",
      "        Whether to show informative labels for impurity, etc.\n",
      "        Options include 'all' to show at every node, 'root' to show only at\n",
      "        the top root node, or 'none' to not show at any node.\n",
      "    \n",
      "    filled : bool, optional (default=False)\n",
      "        When set to ``True``, paint nodes to indicate majority class for\n",
      "        classification, extremity of values for regression, or purity of node\n",
      "        for multi-output.\n",
      "    \n",
      "    leaves_parallel : bool, optional (default=False)\n",
      "        When set to ``True``, draw all leaf nodes at the bottom of the tree.\n",
      "    \n",
      "    impurity : bool, optional (default=True)\n",
      "        When set to ``True``, show the impurity at each node.\n",
      "    \n",
      "    node_ids : bool, optional (default=False)\n",
      "        When set to ``True``, show the ID number on each node.\n",
      "    \n",
      "    proportion : bool, optional (default=False)\n",
      "        When set to ``True``, change the display of 'values' and/or 'samples'\n",
      "        to be proportions and percentages respectively.\n",
      "    \n",
      "    rotate : bool, optional (default=False)\n",
      "        When set to ``True``, orient tree left to right rather than top-down.\n",
      "    \n",
      "    rounded : bool, optional (default=False)\n",
      "        When set to ``True``, draw node boxes with rounded corners and use\n",
      "        Helvetica fonts instead of Times-Roman.\n",
      "    \n",
      "    special_characters : bool, optional (default=False)\n",
      "        When set to ``False``, ignore special characters for PostScript\n",
      "        compatibility.\n",
      "    \n",
      "    precision : int, optional (default=3)\n",
      "        Number of digits of precision for floating point in the values of\n",
      "        impurity, threshold and value attributes of each node.\n",
      "    \n",
      "    Returns\n",
      "    -------\n",
      "    dot_data : string\n",
      "        String representation of the input tree in GraphViz dot format.\n",
      "        Only returned if ``out_file`` is None.\n",
      "    \n",
      "        .. versionadded:: 0.18\n",
      "    \n",
      "    Examples\n",
      "    --------\n",
      "    >>> from sklearn.datasets import load_iris\n",
      "    >>> from sklearn import tree\n",
      "    \n",
      "    >>> clf = tree.DecisionTreeClassifier()\n",
      "    >>> iris = load_iris()\n",
      "    \n",
      "    >>> clf = clf.fit(iris.data, iris.target)\n",
      "    >>> tree.export_graphviz(clf,\n",
      "    ...     out_file='tree.dot')                # doctest: +SKIP\n",
      "\n"
     ]
    }
   ],
   "source": [
    "help(tree.export_graphviz)"
   ]
  },
  {
   "cell_type": "code",
   "execution_count": 10,
   "metadata": {},
   "outputs": [],
   "source": [
    "tree.export_graphviz(algo, out_file=\"tree.dot\", max_depth=7, feature_names=None, class_names=None, label='all', filled=True, leaves_parallel=False, special_characters=True, precision=7)"
   ]
  },
  {
   "cell_type": "code",
   "execution_count": 13,
   "metadata": {},
   "outputs": [
    {
     "ename": "SyntaxError",
     "evalue": "invalid syntax (<ipython-input-13-2a4d78abaace>, line 1)",
     "output_type": "error",
     "traceback": [
      "\u001b[0;36m  File \u001b[0;32m\"<ipython-input-13-2a4d78abaace>\"\u001b[0;36m, line \u001b[0;32m1\u001b[0m\n\u001b[0;31m    sudo apt install espeak\u001b[0m\n\u001b[0m           ^\u001b[0m\n\u001b[0;31mSyntaxError\u001b[0m\u001b[0;31m:\u001b[0m invalid syntax\n"
     ]
    }
   ],
   "source": [
    "sudo apt install espeak\n",
    "import pyttsx3\n",
    "say=pyttsx3.init()\n",
    "say.say(\"Hello..how are you\")\n",
    "say.runAndWait()\n"
   ]
  },
  {
   "cell_type": "code",
   "execution_count": 4,
   "metadata": {},
   "outputs": [
    {
     "ename": "SyntaxError",
     "evalue": "invalid syntax (<ipython-input-4-1752b2351b3d>, line 2)",
     "output_type": "error",
     "traceback": [
      "\u001b[0;36m  File \u001b[0;32m\"<ipython-input-4-1752b2351b3d>\"\u001b[0;36m, line \u001b[0;32m2\u001b[0m\n\u001b[0;31m    hey it is all done now\u001b[0m\n\u001b[0m         ^\u001b[0m\n\u001b[0;31mSyntaxError\u001b[0m\u001b[0;31m:\u001b[0m invalid syntax\n"
     ]
    }
   ],
   "source": [
    "espeak\n",
    "hey it is all done now"
   ]
  },
  {
   "cell_type": "code",
   "execution_count": null,
   "metadata": {},
   "outputs": [],
   "source": []
  }
 ],
 "metadata": {
  "kernelspec": {
   "display_name": "Python 3",
   "language": "python",
   "name": "python3"
  },
  "language_info": {
   "codemirror_mode": {
    "name": "ipython",
    "version": 3
   },
   "file_extension": ".py",
   "mimetype": "text/x-python",
   "name": "python",
   "nbconvert_exporter": "python",
   "pygments_lexer": "ipython3",
   "version": "3.5.2"
  }
 },
 "nbformat": 4,
 "nbformat_minor": 2
}
