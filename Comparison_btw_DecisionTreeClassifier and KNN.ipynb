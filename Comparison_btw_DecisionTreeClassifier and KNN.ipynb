{
 "cells": [
  {
   "cell_type": "code",
   "execution_count": 2,
   "metadata": {},
   "outputs": [
    {
     "name": "stdout",
     "output_type": "stream",
     "text": [
      "[0]\n",
      "[0]\n",
      "[0]\n",
      "[1.0]\n",
      "[1.0]\n",
      "[0 2]\n",
      "[0 2]\n",
      "[0 2]\n",
      "[1.0, 1.0]\n",
      "[1.0, 1.0]\n",
      "[1 0 0]\n",
      "[1 0 0]\n",
      "[1 0 0]\n",
      "[1.0, 1.0, 1.0]\n",
      "[1.0, 1.0, 1.0]\n",
      "[2 1 0 2]\n",
      "[2 1 0 1]\n",
      "[2 1 0 2]\n",
      "[1.0, 1.0, 1.0, 0.75]\n",
      "[1.0, 1.0, 1.0, 0.75]\n",
      "[0 1 0 0 0]\n",
      "[0 1 0 0 0]\n",
      "[0 1 0 0 0]\n",
      "[1.0, 1.0, 1.0, 0.75, 1.0]\n",
      "[1.0, 1.0, 1.0, 0.75, 1.0]\n",
      "[0 1 2 0 0 0]\n",
      "[0 1 2 0 0 0]\n",
      "[0 1 2 0 0 0]\n",
      "[1.0, 1.0, 1.0, 0.75, 1.0, 1.0]\n",
      "[1.0, 1.0, 1.0, 0.75, 1.0, 1.0]\n",
      "[1 1 2 2 2 1 1]\n",
      "[1 1 2 1 2 1 1]\n",
      "[1 1 2 2 2 1 1]\n",
      "[1.0, 1.0, 1.0, 0.75, 1.0, 1.0, 0.8571428571428571]\n",
      "[1.0, 1.0, 1.0, 0.75, 1.0, 1.0, 0.8571428571428571]\n",
      "[1 2 0 1 0 1 2 2]\n",
      "[1 2 0 1 0 2 2 2]\n",
      "[1 2 0 1 0 2 2 2]\n",
      "[1.0, 1.0, 1.0, 0.75, 1.0, 1.0, 0.8571428571428571, 0.875]\n",
      "[1.0, 1.0, 1.0, 0.75, 1.0, 1.0, 0.8571428571428571, 1.0]\n"
     ]
    },
    {
     "data": {
      "image/png": "[encoded data removed]",
      "text/plain": [
       "<Figure size 432x288 with 1 Axes>"
      ]
     },
     "metadata": {},
     "output_type": "display_data"
    }
   ],
   "source": [
    "#COmparison between DecisionTreeClassifier and KNN\n",
    "\n",
    "import time\n",
    "import matplotlib.pyplot as plt\n",
    "from sklearn.datasets  import load_iris\n",
    "from  sklearn  import  tree\n",
    "from sklearn.neighbors import KNeighborsClassifier\n",
    "#for calculating frequency\n",
    "from  sklearn.metrics  import  accuracy_score\n",
    "\n",
    "\n",
    "#from  sklearn.cross_validation  import  train_test_split\n",
    "from   sklearn.model_selection  import  train_test_split\n",
    "\n",
    "#  loading  iris\n",
    "iris=load_iris()\n",
    "test=range(1,9)\n",
    "neighbors=range(1,9)\n",
    "pct=[]\n",
    "knnpct=[]\n",
    "for i in test:\n",
    " train_data,test_data,train_target,test_target=train_test_split(iris.data,iris.target,test_size=i)\n",
    " #  calling  decisiontree\n",
    " clf=tree.DecisionTreeClassifier()\n",
    " trained=clf.fit(train_data,train_target)\n",
    " #calling KNN\n",
    " knnclf=KNeighborsClassifier(n_neighbors=i)\n",
    " knntrained=knnclf.fit(train_data,train_target)\n",
    " #  predicting output \n",
    " predicted=trained.predict(test_data)\n",
    " knnpredicted=knntrained.predict(test_data)\n",
    " print(knnpredicted)\n",
    " print(test_target)\n",
    " print(predicted)\n",
    " pct.append(accuracy_score(test_target,predicted))\n",
    " knnpct.append(accuracy_score(test_target,knnpredicted))\n",
    " print(knnpct)\n",
    " print(pct)\n",
    "\n",
    "plt.xlabel=\"test_size or neighbors\"\n",
    "plt.ylabel=\"accuracy percentage\"\n",
    "#plt.plot(x-axis,y-axis)\n",
    "plt.plot(test,pct, label=\"DTC\")\n",
    "plt.plot(neighbors,knnpct, label=\"KNN\")\n",
    "plt.legend()\n",
    "plt.show()"
   ]
  },
  {
   "cell_type": "code",
   "execution_count": null,
   "metadata": {},
   "outputs": [],
   "source": []
  },
  {
   "cell_type": "code",
   "execution_count": null,
   "metadata": {},
   "outputs": [],
   "source": []
  }
 ],
 "metadata": {
  "kernelspec": {
   "display_name": "Python 3",
   "language": "python",
   "name": "python3"
  },
  "language_info": {
   "codemirror_mode": {
    "name": "ipython",
    "version": 3
   },
   "file_extension": ".py",
   "mimetype": "text/x-python",
   "name": "python",
   "nbconvert_exporter": "python",
   "pygments_lexer": "ipython3",
   "version": "3.5.2"
  }
 },
 "nbformat": 4,
 "nbformat_minor": 2
}
